{
 "cells": [
  {
   "cell_type": "markdown",
   "metadata": {},
   "source": [
    "# Course Project: Trading Strategy based on PCA\n",
    "\n",
    "Welcome to your course project. This exercise gives you a hands-on experience to use PCA to:\n",
    "\n",
    "- construct eigen-portfolios\n",
    "- implement a measure of market systemic risk\n",
    "- develop simple trading strategy\n",
    "\n",
    "**Instructions:**\n",
    "- You will be using Python 3.\n",
    "- Avoid using for-loops and while-loops, unless you are explicitly told to do so.\n",
    "- Do not modify the (# GRADED FUNCTION [function name]) comment in some cells. Your work would not be graded if you change this. Each cell containing that comment should only contain one function.\n",
    "- After coding your function, run the cell right below it to check if your result is correct.\n",
    "\n",
    "**After this assignment you will:**\n",
    "- Be able to use PCA to construct eigen-portfolios\n",
    "- Be able to use PCA to calculate a measure of market systemic risk\n",
    "- Be able to implement and analyze performance of portfolio strategy\n",
    "\n",
    "Let's get started!"
   ]
  },
  {
   "cell_type": "markdown",
   "metadata": {},
   "source": [
    "## About iPython Notebooks ##\n",
    "\n",
    "iPython Notebooks are interactive coding environments embedded in a webpage. You will be using iPython notebooks in this class. You only need to write code between the ### START CODE HERE ### and ### END CODE HERE ### comments. After writing your code, you can run the cell by either pressing \"SHIFT\"+\"ENTER\" or by clicking on \"Run Cell\" (denoted by a play symbol) in the upper bar of the notebook. \n",
    "\n",
    "We will often specify \"(≈ X lines of code)\" in the comments to tell you about how much code you need to write. It is just a rough estimate, so don't feel bad if your code is longer or shorter."
   ]
  },
  {
   "cell_type": "markdown",
   "metadata": {},
   "source": [
    "## 1 - Packages ##\n",
    "\n",
    "First, let's run the cell below to import all the packages that you will need during this assignment. \n",
    "- [numpy](www.numpy.org) is the fundamental package for scientific computing with Python.\n",
    "- [pandas](http://pandas.pydata.org/) Python data analysis library\n",
    "- [pandas](http://scikit-learn.org/stable/) scikit-learn - machine learning in Python.\n",
    "- [matplotlib](http://matplotlib.org) is a famous library to plot graphs in Python."
   ]
  },
  {
   "cell_type": "code",
   "execution_count": 74,
   "metadata": {},
   "outputs": [
    {
     "name": "stdout",
     "output_type": "stream",
     "text": [
      "Package Versions:\n",
      "  scikit-learn: 0.18.2\n",
      "  tensorflow: 1.10.1\n",
      "  pandas: 0.19.2\n"
     ]
    }
   ],
   "source": [
    "import pandas as pd\n",
    "import numpy as np\n",
    "import sklearn.decomposition\n",
    "import tensorflow as tf\n",
    "from tensorflow.contrib.layers import fully_connected\n",
    "import sys\n",
    "\n",
    "import matplotlib.pyplot as plt\n",
    "%matplotlib inline\n",
    "\n",
    "print(\"Package Versions:\")\n",
    "print(\"  scikit-learn: %s\" % sklearn.__version__)\n",
    "print(\"  tensorflow: %s\" % tf.__version__)\n",
    "\n",
    "sys.path.append(\"..\")\n",
    "import grading\n",
    "\n",
    "try:\n",
    "    import sklearn.model_selection\n",
    "    import sklearn.linear_model\n",
    "except:\n",
    "    print(\"Looks like an older version of sklearn package\")\n",
    "\n",
    "try:\n",
    "    import pandas as pd\n",
    "    print(\"  pandas: %s\"% pd.__version__)\n",
    "except:\n",
    "    print(\"Missing pandas package\")"
   ]
  },
  {
   "cell_type": "code",
   "execution_count": 75,
   "metadata": {
    "collapsed": true
   },
   "outputs": [],
   "source": [
    "### ONLY FOR GRADING. DO NOT EDIT ###\n",
    "submissions=dict()\n",
    "assignment_key=\"LztgGBBtEeiaYgrsftMrjA\" \n",
    "all_parts=[\"oZXnf\", \"ahjZa\", \"9tUbW\",\"wjLiO\"]\n",
    "### ONLY FOR GRADING. DO NOT EDIT ###"
   ]
  },
  {
   "cell_type": "code",
   "execution_count": 76,
   "metadata": {
    "collapsed": true
   },
   "outputs": [],
   "source": [
    "# COURSERA_TOKEN = # the key provided to the Student under his/her email on submission page\n",
    "# COURSERA_EMAIL = # the email\n",
    "COURSERA_TOKEN=\"PSQYM1pw83LE1g3H\"\n",
    "COURSERA_EMAIL=\"819563421@qq.com\""
   ]
  },
  {
   "cell_type": "markdown",
   "metadata": {},
   "source": [
    "#### Dataset:  daily prices of  stocks from S&P 500 index  ####\n",
    "For this exercise we will be working with S&P 500 Index stock prices dataset. \n",
    "The following cell computes returns based for a subset of S&P 500 index stocks. It starts with stocks price data:"
   ]
  },
  {
   "cell_type": "code",
   "execution_count": 77,
   "metadata": {},
   "outputs": [
    {
     "name": "stdout",
     "output_type": "stream",
     "text": [
      "Asset prices shape (3493, 419)\n"
     ]
    },
    {
     "data": {
      "text/html": [
       "<div>\n",
       "<table border=\"1\" class=\"dataframe\">\n",
       "  <thead>\n",
       "    <tr style=\"text-align: right;\">\n",
       "      <th></th>\n",
       "      <th>A</th>\n",
       "      <th>AA</th>\n",
       "      <th>AAPL</th>\n",
       "      <th>ABC</th>\n",
       "      <th>ABT</th>\n",
       "      <th>ADBE</th>\n",
       "      <th>ADI</th>\n",
       "      <th>ADM</th>\n",
       "      <th>ADP</th>\n",
       "      <th>ADSK</th>\n",
       "      <th>AEE</th>\n",
       "      <th>AEP</th>\n",
       "    </tr>\n",
       "  </thead>\n",
       "  <tbody>\n",
       "    <tr>\n",
       "      <th>2000-01-27</th>\n",
       "      <td>46.1112</td>\n",
       "      <td>78.9443</td>\n",
       "      <td>3.9286</td>\n",
       "      <td>4.5485</td>\n",
       "      <td>13.7898</td>\n",
       "      <td>15.6719</td>\n",
       "      <td>48.0313</td>\n",
       "      <td>10.8844</td>\n",
       "      <td>39.5477</td>\n",
       "      <td>8.1250</td>\n",
       "      <td>32.9375</td>\n",
       "      <td>33.5625</td>\n",
       "    </tr>\n",
       "    <tr>\n",
       "      <th>2000-01-28</th>\n",
       "      <td>45.8585</td>\n",
       "      <td>77.8245</td>\n",
       "      <td>3.6295</td>\n",
       "      <td>4.5485</td>\n",
       "      <td>14.2653</td>\n",
       "      <td>14.3906</td>\n",
       "      <td>47.7500</td>\n",
       "      <td>10.7143</td>\n",
       "      <td>38.5627</td>\n",
       "      <td>7.7188</td>\n",
       "      <td>32.3125</td>\n",
       "      <td>33.0000</td>\n",
       "    </tr>\n",
       "    <tr>\n",
       "      <th>2000-01-31</th>\n",
       "      <td>44.5952</td>\n",
       "      <td>78.0345</td>\n",
       "      <td>3.7054</td>\n",
       "      <td>4.3968</td>\n",
       "      <td>14.5730</td>\n",
       "      <td>13.7656</td>\n",
       "      <td>46.7500</td>\n",
       "      <td>10.6576</td>\n",
       "      <td>37.3807</td>\n",
       "      <td>7.6406</td>\n",
       "      <td>32.5625</td>\n",
       "      <td>33.5000</td>\n",
       "    </tr>\n",
       "    <tr>\n",
       "      <th>2000-02-01</th>\n",
       "      <td>47.8377</td>\n",
       "      <td>80.7640</td>\n",
       "      <td>3.5804</td>\n",
       "      <td>4.5333</td>\n",
       "      <td>14.7128</td>\n",
       "      <td>13.9688</td>\n",
       "      <td>49.0000</td>\n",
       "      <td>10.8844</td>\n",
       "      <td>37.9717</td>\n",
       "      <td>7.9219</td>\n",
       "      <td>32.5625</td>\n",
       "      <td>33.6875</td>\n",
       "    </tr>\n",
       "    <tr>\n",
       "      <th>2000-02-02</th>\n",
       "      <td>51.5434</td>\n",
       "      <td>83.4934</td>\n",
       "      <td>3.5290</td>\n",
       "      <td>4.5788</td>\n",
       "      <td>14.7968</td>\n",
       "      <td>15.3281</td>\n",
       "      <td>48.1250</td>\n",
       "      <td>10.6576</td>\n",
       "      <td>35.9032</td>\n",
       "      <td>7.9688</td>\n",
       "      <td>32.5625</td>\n",
       "      <td>33.6250</td>\n",
       "    </tr>\n",
       "  </tbody>\n",
       "</table>\n",
       "</div>"
      ],
      "text/plain": [
       "                  A       AA    AAPL     ABC      ABT     ADBE      ADI  \\\n",
       "2000-01-27  46.1112  78.9443  3.9286  4.5485  13.7898  15.6719  48.0313   \n",
       "2000-01-28  45.8585  77.8245  3.6295  4.5485  14.2653  14.3906  47.7500   \n",
       "2000-01-31  44.5952  78.0345  3.7054  4.3968  14.5730  13.7656  46.7500   \n",
       "2000-02-01  47.8377  80.7640  3.5804  4.5333  14.7128  13.9688  49.0000   \n",
       "2000-02-02  51.5434  83.4934  3.5290  4.5788  14.7968  15.3281  48.1250   \n",
       "\n",
       "                ADM      ADP    ADSK      AEE      AEP  \n",
       "2000-01-27  10.8844  39.5477  8.1250  32.9375  33.5625  \n",
       "2000-01-28  10.7143  38.5627  7.7188  32.3125  33.0000  \n",
       "2000-01-31  10.6576  37.3807  7.6406  32.5625  33.5000  \n",
       "2000-02-01  10.8844  37.9717  7.9219  32.5625  33.6875  \n",
       "2000-02-02  10.6576  35.9032  7.9688  32.5625  33.6250  "
      ]
     },
     "execution_count": 77,
     "metadata": {},
     "output_type": "execute_result"
    }
   ],
   "source": [
    "import os\n",
    "# load dataset\n",
    "\n",
    "asset_prices = pd.read_csv('/home/jovyan/work/readonly/spx_holdings_and_spx_closeprice.csv',\n",
    "                     date_parser=lambda dt: pd.to_datetime(dt, format='%Y-%m-%d'),\n",
    "                     index_col = 0).dropna()\n",
    "n_stocks_show = 12\n",
    "print('Asset prices shape', asset_prices.shape)\n",
    "asset_prices.iloc[:, :n_stocks_show].head()"
   ]
  },
  {
   "cell_type": "markdown",
   "metadata": {},
   "source": [
    "### Calculate daily log-returns"
   ]
  },
  {
   "cell_type": "code",
   "execution_count": 78,
   "metadata": {},
   "outputs": [
    {
     "data": {
      "text/html": [
       "<div>\n",
       "<table border=\"1\" class=\"dataframe\">\n",
       "  <thead>\n",
       "    <tr style=\"text-align: right;\">\n",
       "      <th></th>\n",
       "      <th>A</th>\n",
       "      <th>AA</th>\n",
       "      <th>AAPL</th>\n",
       "      <th>ABC</th>\n",
       "      <th>ABT</th>\n",
       "      <th>ADBE</th>\n",
       "      <th>ADI</th>\n",
       "      <th>ADM</th>\n",
       "      <th>ADP</th>\n",
       "      <th>ADSK</th>\n",
       "      <th>AEE</th>\n",
       "      <th>AEP</th>\n",
       "    </tr>\n",
       "  </thead>\n",
       "  <tbody>\n",
       "    <tr>\n",
       "      <th>2000-01-28</th>\n",
       "      <td>-0.005480</td>\n",
       "      <td>-0.014185</td>\n",
       "      <td>-0.076134</td>\n",
       "      <td>0.000000</td>\n",
       "      <td>0.034482</td>\n",
       "      <td>-0.081758</td>\n",
       "      <td>-0.005857</td>\n",
       "      <td>-0.015628</td>\n",
       "      <td>-0.024907</td>\n",
       "      <td>-0.049994</td>\n",
       "      <td>-0.018975</td>\n",
       "      <td>-0.016760</td>\n",
       "    </tr>\n",
       "    <tr>\n",
       "      <th>2000-01-31</th>\n",
       "      <td>-0.027548</td>\n",
       "      <td>0.002698</td>\n",
       "      <td>0.020912</td>\n",
       "      <td>-0.033352</td>\n",
       "      <td>0.021570</td>\n",
       "      <td>-0.043431</td>\n",
       "      <td>-0.020942</td>\n",
       "      <td>-0.005292</td>\n",
       "      <td>-0.030651</td>\n",
       "      <td>-0.010131</td>\n",
       "      <td>0.007737</td>\n",
       "      <td>0.015152</td>\n",
       "    </tr>\n",
       "    <tr>\n",
       "      <th>2000-02-01</th>\n",
       "      <td>0.072710</td>\n",
       "      <td>0.034978</td>\n",
       "      <td>-0.033735</td>\n",
       "      <td>0.031045</td>\n",
       "      <td>0.009593</td>\n",
       "      <td>0.014761</td>\n",
       "      <td>0.048128</td>\n",
       "      <td>0.021281</td>\n",
       "      <td>0.015810</td>\n",
       "      <td>0.036816</td>\n",
       "      <td>0.000000</td>\n",
       "      <td>0.005597</td>\n",
       "    </tr>\n",
       "    <tr>\n",
       "      <th>2000-02-02</th>\n",
       "      <td>0.077464</td>\n",
       "      <td>0.033795</td>\n",
       "      <td>-0.014356</td>\n",
       "      <td>0.010037</td>\n",
       "      <td>0.005709</td>\n",
       "      <td>0.097310</td>\n",
       "      <td>-0.017857</td>\n",
       "      <td>-0.020837</td>\n",
       "      <td>-0.054475</td>\n",
       "      <td>0.005920</td>\n",
       "      <td>0.000000</td>\n",
       "      <td>-0.001855</td>\n",
       "    </tr>\n",
       "    <tr>\n",
       "      <th>2000-02-03</th>\n",
       "      <td>0.016340</td>\n",
       "      <td>-0.031014</td>\n",
       "      <td>0.045537</td>\n",
       "      <td>-0.006617</td>\n",
       "      <td>0.005670</td>\n",
       "      <td>0.126402</td>\n",
       "      <td>0.098701</td>\n",
       "      <td>0.000000</td>\n",
       "      <td>0.067217</td>\n",
       "      <td>0.035288</td>\n",
       "      <td>0.011516</td>\n",
       "      <td>0.033457</td>\n",
       "    </tr>\n",
       "  </tbody>\n",
       "</table>\n",
       "</div>"
      ],
      "text/plain": [
       "                   A        AA      AAPL       ABC       ABT      ADBE  \\\n",
       "2000-01-28 -0.005480 -0.014185 -0.076134  0.000000  0.034482 -0.081758   \n",
       "2000-01-31 -0.027548  0.002698  0.020912 -0.033352  0.021570 -0.043431   \n",
       "2000-02-01  0.072710  0.034978 -0.033735  0.031045  0.009593  0.014761   \n",
       "2000-02-02  0.077464  0.033795 -0.014356  0.010037  0.005709  0.097310   \n",
       "2000-02-03  0.016340 -0.031014  0.045537 -0.006617  0.005670  0.126402   \n",
       "\n",
       "                 ADI       ADM       ADP      ADSK       AEE       AEP  \n",
       "2000-01-28 -0.005857 -0.015628 -0.024907 -0.049994 -0.018975 -0.016760  \n",
       "2000-01-31 -0.020942 -0.005292 -0.030651 -0.010131  0.007737  0.015152  \n",
       "2000-02-01  0.048128  0.021281  0.015810  0.036816  0.000000  0.005597  \n",
       "2000-02-02 -0.017857 -0.020837 -0.054475  0.005920  0.000000 -0.001855  \n",
       "2000-02-03  0.098701  0.000000  0.067217  0.035288  0.011516  0.033457  "
      ]
     },
     "execution_count": 78,
     "metadata": {},
     "output_type": "execute_result"
    }
   ],
   "source": [
    "asset_returns = np.log(asset_prices) - np.log(asset_prices.shift(1))\n",
    "asset_returns = asset_prices.pct_change(periods=1)\n",
    "asset_returns = asset_returns.iloc[1:, :]\n",
    "asset_returns.iloc[:, :n_stocks_show].head()"
   ]
  },
  {
   "cell_type": "code",
   "execution_count": 79,
   "metadata": {
    "collapsed": true
   },
   "outputs": [],
   "source": [
    "def center_returns(r_df):\n",
    "    \"\"\"\n",
    "    Normalize, i.e. center and divide by standard deviation raw asset returns data\n",
    "\n",
    "    Arguments:\n",
    "    r_df -- a pandas.DataFrame of asset returns\n",
    "\n",
    "    Return:\n",
    "    normed_df -- normalized returns\n",
    "    \"\"\"\n",
    "    mean_r = r_df.mean(axis=0)\n",
    "    sd_r = r_df.std(axis=0)\n",
    "    normed_df = (r_df - mean_r) / sd_r\n",
    "    return normed_df"
   ]
  },
  {
   "cell_type": "code",
   "execution_count": 80,
   "metadata": {},
   "outputs": [
    {
     "data": {
      "text/html": [
       "<div>\n",
       "<table border=\"1\" class=\"dataframe\">\n",
       "  <thead>\n",
       "    <tr style=\"text-align: right;\">\n",
       "      <th></th>\n",
       "      <th>A</th>\n",
       "      <th>AA</th>\n",
       "      <th>AAPL</th>\n",
       "      <th>ABC</th>\n",
       "      <th>ABT</th>\n",
       "      <th>ADBE</th>\n",
       "      <th>ADI</th>\n",
       "      <th>ADM</th>\n",
       "      <th>ADP</th>\n",
       "      <th>ADSK</th>\n",
       "      <th>AEE</th>\n",
       "      <th>AEP</th>\n",
       "    </tr>\n",
       "  </thead>\n",
       "  <tbody>\n",
       "    <tr>\n",
       "      <th>2000-01-28</th>\n",
       "      <td>-0.190054</td>\n",
       "      <td>-0.513710</td>\n",
       "      <td>-2.714709</td>\n",
       "      <td>-0.049779</td>\n",
       "      <td>2.182933</td>\n",
       "      <td>-2.684131</td>\n",
       "      <td>-0.212461</td>\n",
       "      <td>-0.766996</td>\n",
       "      <td>-1.540731</td>\n",
       "      <td>-1.803947</td>\n",
       "      <td>-1.372991</td>\n",
       "      <td>-0.994169</td>\n",
       "    </tr>\n",
       "    <tr>\n",
       "      <th>2000-01-31</th>\n",
       "      <td>-0.898232</td>\n",
       "      <td>0.096888</td>\n",
       "      <td>0.688156</td>\n",
       "      <td>-1.757230</td>\n",
       "      <td>1.355644</td>\n",
       "      <td>-1.438899</td>\n",
       "      <td>-0.720771</td>\n",
       "      <td>-0.279098</td>\n",
       "      <td>-1.891884</td>\n",
       "      <td>-0.391433</td>\n",
       "      <td>0.547298</td>\n",
       "      <td>0.871919</td>\n",
       "    </tr>\n",
       "    <tr>\n",
       "      <th>2000-02-01</th>\n",
       "      <td>2.319164</td>\n",
       "      <td>1.264327</td>\n",
       "      <td>-1.227995</td>\n",
       "      <td>1.539597</td>\n",
       "      <td>0.588289</td>\n",
       "      <td>0.451774</td>\n",
       "      <td>1.606541</td>\n",
       "      <td>0.975244</td>\n",
       "      <td>0.948126</td>\n",
       "      <td>1.272129</td>\n",
       "      <td>-0.008894</td>\n",
       "      <td>0.313197</td>\n",
       "    </tr>\n",
       "    <tr>\n",
       "      <th>2000-02-02</th>\n",
       "      <td>2.471738</td>\n",
       "      <td>1.221529</td>\n",
       "      <td>-0.548494</td>\n",
       "      <td>0.464060</td>\n",
       "      <td>0.339454</td>\n",
       "      <td>3.133764</td>\n",
       "      <td>-0.616815</td>\n",
       "      <td>-1.012898</td>\n",
       "      <td>-3.348109</td>\n",
       "      <td>0.177340</td>\n",
       "      <td>-0.008894</td>\n",
       "      <td>-0.122594</td>\n",
       "    </tr>\n",
       "    <tr>\n",
       "      <th>2000-02-03</th>\n",
       "      <td>0.510174</td>\n",
       "      <td>-1.122380</td>\n",
       "      <td>1.551619</td>\n",
       "      <td>-0.388563</td>\n",
       "      <td>0.336944</td>\n",
       "      <td>4.078966</td>\n",
       "      <td>3.310577</td>\n",
       "      <td>-0.029293</td>\n",
       "      <td>4.090396</td>\n",
       "      <td>1.217955</td>\n",
       "      <td>0.818989</td>\n",
       "      <td>1.942390</td>\n",
       "    </tr>\n",
       "  </tbody>\n",
       "</table>\n",
       "</div>"
      ],
      "text/plain": [
       "                   A        AA      AAPL       ABC       ABT      ADBE  \\\n",
       "2000-01-28 -0.190054 -0.513710 -2.714709 -0.049779  2.182933 -2.684131   \n",
       "2000-01-31 -0.898232  0.096888  0.688156 -1.757230  1.355644 -1.438899   \n",
       "2000-02-01  2.319164  1.264327 -1.227995  1.539597  0.588289  0.451774   \n",
       "2000-02-02  2.471738  1.221529 -0.548494  0.464060  0.339454  3.133764   \n",
       "2000-02-03  0.510174 -1.122380  1.551619 -0.388563  0.336944  4.078966   \n",
       "\n",
       "                 ADI       ADM       ADP      ADSK       AEE       AEP  \n",
       "2000-01-28 -0.212461 -0.766996 -1.540731 -1.803947 -1.372991 -0.994169  \n",
       "2000-01-31 -0.720771 -0.279098 -1.891884 -0.391433  0.547298  0.871919  \n",
       "2000-02-01  1.606541  0.975244  0.948126  1.272129 -0.008894  0.313197  \n",
       "2000-02-02 -0.616815 -1.012898 -3.348109  0.177340 -0.008894 -0.122594  \n",
       "2000-02-03  3.310577 -0.029293  4.090396  1.217955  0.818989  1.942390  "
      ]
     },
     "execution_count": 80,
     "metadata": {},
     "output_type": "execute_result"
    }
   ],
   "source": [
    "normed_r = center_returns(asset_returns)\n",
    "normed_r.iloc[:, :n_stocks_show].head()"
   ]
  },
  {
   "cell_type": "markdown",
   "metadata": {},
   "source": [
    "Now we are ready to compute Absorption Ratio(AR). We do so by defining a moving look back window over which we collect returns for computing PCA. We start off from the earliest historical data and march forward moving by step_size, which we also choose arbitrary. For each such window we compute PCA and AR, fixing in advance number of components in the enumerator. Specifically, for we use the following hyper-parameters:"
   ]
  },
  {
   "cell_type": "markdown",
   "metadata": {},
   "source": [
    "#### Part 1 (Implement exponentially-weighted)\n",
    "\n",
    "**Instructions:**\n",
    "Implement exponent_weighting function which returns a sequence of $w_j$ as np.array. See below:\n",
    "\n",
    "Define sequence of $X_j$ where $j \\subset [N, 0]$, an integer taking all values in the interval from 0 to N  $$ X_j =  e^{-\\frac{log(2)}{H} \\times  \\space j}$$\n",
    "where H is half-life which determines the speed of decay, and $log$ is natural log function\n",
    "Then a sequence of exponentially decaying weights $w_j$ is defined as $$ w_j = \\frac{X_j}{ \\sum\\limits_{j=0}^N X_j } $$"
   ]
  },
  {
   "cell_type": "code",
   "execution_count": 81,
   "metadata": {
    "collapsed": true
   },
   "outputs": [],
   "source": [
    "# GRADED FUNCTION: exponent_weighting# GRADE \n",
    "def exponent_weighting(n_periods, half_life = 252):\n",
    "    \"\"\"\n",
    "    Calculate exponentially smoothed normalized (in probability density function sense) weights\n",
    "\n",
    "    Arguments:\n",
    "    n_periods -- number of periods, an integer, N in the formula above\n",
    "    half_life -- half-life, which determines the speed of decay, h in the formula\n",
    "    \n",
    "    Return:\n",
    "    exp_probs -- exponentially smoothed weights, np.array\n",
    "    \"\"\"\n",
    "    \n",
    "    exp_probs = np.zeros(n_periods) # do your own calculation instead of dummy zero array\n",
    "    ### START CODE HERE ### (≈ 3 lines of code)\n",
    "    ### ...\n",
    "    for j in range(n_periods):\n",
    "        exp_probs[j] = np.exp(-np.log(2)*j/half_life)\n",
    "    exp_probs = exp_probs/sum(exp_probs)\n",
    "    return exp_probs\n",
    "    ### END CODE HERE ###"
   ]
  },
  {
   "cell_type": "code",
   "execution_count": 82,
   "metadata": {},
   "outputs": [
    {
     "data": {
      "text/plain": [
       "[<matplotlib.lines.Line2D at 0x7f1f72fdfc18>]"
      ]
     },
     "execution_count": 82,
     "metadata": {},
     "output_type": "execute_result"
    },
    {
     "data": {
      "image/png": "[encoded data removed]",
      "text/plain": [
       "<matplotlib.figure.Figure at 0x7f1f5d1dd128>"
      ]
     },
     "metadata": {},
     "output_type": "display_data"
    }
   ],
   "source": [
    "exp_probs = exponent_weighting(252*1)\n",
    "plt.plot(exp_probs, linewidth=3)"
   ]
  },
  {
   "cell_type": "code",
   "execution_count": 83,
   "metadata": {},
   "outputs": [
    {
     "name": "stdout",
     "output_type": "stream",
     "text": [
      "Submission successful, please check on the coursera grader page for the status\n"
     ]
    },
    {
     "data": {
      "text/plain": [
       "array([ 0.00549361,  0.00547852,  0.00546347,  0.00544846,  0.0054335 ,\n",
       "        0.00541857,  0.00540369,  0.00538885,  0.00537404,  0.00535928,\n",
       "        0.00534456,  0.00532988,  0.00531524,  0.00530064,  0.00528608,\n",
       "        0.00527156,  0.00525708,  0.00524264,  0.00522824,  0.00521388,\n",
       "        0.00519956,  0.00518528,  0.00517103,  0.00515683,  0.00514267,\n",
       "        0.00512854,  0.00511445,  0.0051004 ,  0.00508639,  0.00507242,\n",
       "        0.00505849,  0.00504459,  0.00503074,  0.00501692,  0.00500314,\n",
       "        0.0049894 ,  0.00497569,  0.00496202,  0.00494839,  0.0049348 ,\n",
       "        0.00492125,  0.00490773,  0.00489425,  0.00488081,  0.0048674 ,\n",
       "        0.00485403,  0.0048407 ,  0.0048274 ,  0.00481414,  0.00480092,\n",
       "        0.00478773,  0.00477458,  0.00476146,  0.00474838,  0.00473534,\n",
       "        0.00472233,  0.00470936,  0.00469643,  0.00468353,  0.00467066,\n",
       "        0.00465783,  0.00464504,  0.00463228,  0.00461956,  0.00460687,\n",
       "        0.00459421,  0.00458159,  0.00456901,  0.00455646,  0.00454394,\n",
       "        0.00453146,  0.00451901,  0.0045066 ,  0.00449422,  0.00448188,\n",
       "        0.00446957,  0.00445729,  0.00444505,  0.00443284,  0.00442066,\n",
       "        0.00440852,  0.00439641,  0.00438433,  0.00437229,  0.00436028,\n",
       "        0.0043483 ,  0.00433636,  0.00432445,  0.00431257,  0.00430072,\n",
       "        0.00428891,  0.00427713,  0.00426538,  0.00425367,  0.00424198,\n",
       "        0.00423033,  0.00421871,  0.00420712,  0.00419557,  0.00418404])"
      ]
     },
     "execution_count": 83,
     "metadata": {},
     "output_type": "execute_result"
    }
   ],
   "source": [
    "### GRADED PART (DO NOT EDIT) ###\n",
    "part_1=list(exp_probs[:100])\n",
    "try:\n",
    "    part1 = \" \".join(map(repr, part_1))\n",
    "except TypeError:\n",
    "    part1 = repr(part_1)\n",
    "submissions[all_parts[0]]=part1\n",
    "grading.submit(COURSERA_EMAIL, COURSERA_TOKEN, assignment_key,all_parts[:1],all_parts,submissions)\n",
    "exp_probs[:100]\n",
    "### GRADED PART (DO NOT EDIT) ###"
   ]
  },
  {
   "cell_type": "code",
   "execution_count": 84,
   "metadata": {
    "collapsed": true
   },
   "outputs": [],
   "source": [
    "def absorption_ratio(explained_variance, n_components):\n",
    "    \"\"\"\n",
    "    Calculate absorption ratio via PCA. absorption_ratio() is NOT to be used with Auto-Encoder. \n",
    "    \n",
    "    Arguments:\n",
    "    explained_variance -- 1D np.array of explained variance by each pricincipal component, in descending order\n",
    "    \n",
    "    n_components -- an integer, a number of principal components to compute absorption ratio\n",
    "    \n",
    "    Return:\n",
    "    ar -- absorption ratio\n",
    "    \"\"\"\n",
    "    ar = np.sum(explained_variance[:n_components]) / np.sum(explained_variance)\n",
    "    return ar"
   ]
  },
  {
   "cell_type": "markdown",
   "metadata": {},
   "source": [
    "#### Part 2 (Implement Linear Auto-Encoder)\n",
    "\n",
    "LinearAutoEncoder class has two fully connected layers and no activation functions between the layers.\n",
    "\n",
    "**Instructions:**\n",
    "- fill missing code within LinearAutoEncoder class\n",
    "- in init() method of LinearAutoEncoder setup neural network\n",
    "    - **self.codings_layer** is a fully connected layer with **n_codings** neurons and no activation function\n",
    "    - **self.outputs** is a fully connected layer with **n_outputs** neurons and no activation function\n",
    "    - define loss function as Mean Square Error between the outputs and inputs referenced by **self.X** in the code\n",
    "    - use AdamOptimizer to optimize model parameters"
   ]
  },
  {
   "cell_type": "code",
   "execution_count": 85,
   "metadata": {
    "collapsed": true
   },
   "outputs": [],
   "source": [
    "def reset_graph(seed=42):\n",
    "    tf.reset_default_graph()\n",
    "    tf.set_random_seed(seed)\n",
    "    np.random.seed(seed)\n",
    "    \n",
    "class LinearAutoEncoder:\n",
    "    \"\"\"\n",
    "    To perform simple PCA, we set activation_fn=None \n",
    "    i.e., all neurons are linear and the cost function is the Mean-Square Error (MSE)\n",
    "    \"\"\"\n",
    "    def __init__(self, n_inputs, n_codings, learning_rate=0.01):\n",
    "        self.learning_rate = learning_rate\n",
    "        n_outputs = n_inputs\n",
    "        self.destroy()\n",
    "        reset_graph()\n",
    "    \n",
    "        # the inputs are n_inputs x n_inputs covariance matrices\n",
    "        self.X = tf.placeholder(tf.float32, shape=[None, n_inputs, n_inputs])\n",
    "        with tf.name_scope(\"lin_ae\"):\n",
    "            self.codings_layer = None\n",
    "            self.outputs = None\n",
    "            ### START CODE HERE ### (≈ 2 lines of code)\n",
    "            self.codings_layer = tf.layers.dense(self.X,n_codings)\n",
    "            self.outputs = tf.layers.dense(self.codings_layer, n_outputs)\n",
    "            ### END CODE HERE ###\n",
    "        \n",
    "        with tf.name_scope(\"loss\"):\n",
    "            self.reconstruction_loss = None\n",
    "            self.training_op = None\n",
    "            ### START CODE HERE ### (≈ 4-5 lines of code)\n",
    "            self.reconstruction_loss = tf.reduce_mean(tf.squared_difference(self.X,self.outputs))\n",
    "            self.training_op = tf.train.AdamOptimizer(learning_rate = learning_rate).minimize(self.reconstruction_loss)\n",
    "            ### END CODE HERE ###\n",
    "            self.init = tf.global_variables_initializer()\n",
    "            \n",
    "    def destroy(self):\n",
    "        if hasattr(self, 'sess') and self.sess is not None:\n",
    "            self.sess.close()\n",
    "            self.sess = None\n",
    "\n",
    "    def absorption_ratio(self, test_input):\n",
    "        \"\"\"\n",
    "        Calculate absorption ratio based on already trained model\n",
    "        \"\"\"\n",
    "        if self.outputs is None:\n",
    "            return test_input, 0.\n",
    "        \n",
    "        with self.sess.as_default():  # do not close session\n",
    "            codings = self.codings_layer.eval(feed_dict={self.X: test_input})\n",
    "\n",
    "            # calculate variance explained ratio\n",
    "            result_ = self.outputs.eval(feed_dict={self.X: test_input})\n",
    "            var_explained = np.sum(np.diag(result_.squeeze())) / np.sum(np.diag(test_input.squeeze()))\n",
    "\n",
    "        return codings[0, :, :], var_explained\n",
    "    \n",
    "    def next_batch(self, X_train, batch_size):\n",
    "        \"\"\"\n",
    "        X_train - np.array of double of size K x N x N, where N is dimensionality of the covariance matrix\n",
    "        batch_size - an integer, number of training examples to feed through the nwtwork at once\n",
    "        \"\"\"\n",
    "        y_batch = None\n",
    "\n",
    "        selected_idx = np.random.choice(tuple(range(X_train.shape[0])), size=batch_size)\n",
    "        X_batch = X_train[selected_idx, :, :]\n",
    "        return X_batch, y_batch\n",
    "\n",
    "    def train(self, X_train, X_test, n_epochs=5, batch_size=2, verbose=False):\n",
    "        \"\"\"\n",
    "        train simple auto-encoder network\n",
    "        :param X_train:\n",
    "        :param X_test:\n",
    "        :param n_epochs: number of epochs to use for training the model\n",
    "        :param batch_size:\n",
    "        :return:\n",
    "        \"\"\"\n",
    "        if self.outputs is None:\n",
    "            return X_test, 0.\n",
    "        \n",
    "        n_examples = len(X_train)  # number of training examples\n",
    "        self.sess = tf.Session()\n",
    "        \n",
    "        # as_default context manager does not close the session when you exit the context,\n",
    "        # and you must close the session explicitly.\n",
    "        with self.sess.as_default():\n",
    "            self.init.run()\n",
    "            for epoch in range(n_epochs):\n",
    "                n_batches = n_examples // min(n_examples, batch_size)\n",
    "                for _ in range(n_batches):\n",
    "                    X_batch, y_batch = self.next_batch(X_train, batch_size)\n",
    "                    self.sess.run(self.training_op, feed_dict={self.X: X_batch})\n",
    "                \n",
    "                if verbose:\n",
    "                    # last covariance matrix from the training sample\n",
    "                    if X_train.shape[0] == 1:\n",
    "                        mse_train = self.reconstruction_loss.eval(feed_dict={self.X: X_train})\n",
    "                    else:\n",
    "                        mse_train = self.reconstruction_loss.eval(feed_dict={self.X: np.array([X_train[-1, :, :]])})\n",
    "                    mse_test = self.reconstruction_loss.eval(feed_dict={self.X: X_test})\n",
    "                    print('Epoch %d. MSE Train %.4f, MSE Test %.4f' % (epoch, mse_train, mse_test))\n",
    "\n",
    "            # calculate variance explained ratio\n",
    "            test_input = np.array([X_train[-1, :, :]])\n",
    "            result_ = self.outputs.eval(feed_dict={self.X: test_input})\n",
    "            var_explained = np.sum(np.diag(result_.squeeze())) / np.sum(np.diag(test_input.squeeze()))\n",
    "            # print('Linear Auto-Encoder: variance explained: %.2f' % var_explained)\n",
    "\n",
    "            codings = self.codings_layer.eval(feed_dict={self.X: X_test})\n",
    "            # print('Done training linear auto-encoder')\n",
    "\n",
    "        return codings[0, :, :], var_explained"
   ]
  },
  {
   "cell_type": "code",
   "execution_count": 86,
   "metadata": {},
   "outputs": [
    {
     "name": "stdout",
     "output_type": "stream",
     "text": [
      "time index and covariance matrix shape 1000 (504, 418)\n",
      "time index and covariance matrix shape 1060 (504, 418)\n",
      "time index and covariance matrix shape 1120 (504, 418)\n",
      "time index and covariance matrix shape 1180 (504, 418)\n",
      "time index and covariance matrix shape 1240 (504, 418)\n"
     ]
    }
   ],
   "source": [
    "### GRADED PART (DO NOT EDIT) ###\n",
    "ix_offset = 1000\n",
    "stock_tickers = asset_returns.columns.values[:-1]\n",
    "assert 'SPX' not in stock_tickers, \"By accident included SPX index\"\n",
    "\n",
    "step_size = 60\n",
    "num_samples = 5\n",
    "lookback_window = 252 * 2   # in (days)\n",
    "num_assets = len(stock_tickers)\n",
    "cov_matricies = np.zeros((num_samples, num_assets, num_assets)) # hold training data\n",
    "\n",
    "# collect training and test data\n",
    "ik = 0\n",
    "for ix in range(ix_offset, min(ix_offset + num_samples * step_size, len(normed_r)), step_size):\n",
    "    ret_frame = normed_r.iloc[ix_offset - lookback_window:ix_offset, :-1]\n",
    "    print(\"time index and covariance matrix shape\", ix, ret_frame.shape)\n",
    "    cov_matricies[ik, :, :] = ret_frame.cov()\n",
    "    ik += 1\n",
    "\n",
    "# the last covariance matrix determines the absorption ratio\n",
    "lin_ae = LinearAutoEncoder(n_inputs=num_assets, n_codings=200)\n",
    "np.array([cov_matricies[-1, :, :]]).shape\n",
    "lin_codings, test_absorp_ratio = lin_ae.train(cov_matricies[ : int((2/3)*num_samples), :, :],\n",
    "                                                np.array([cov_matricies[-1, :, :]]),\n",
    "                                                n_epochs=10, \n",
    "                                                batch_size=5)\n",
    "lin_codings, in_sample_absorp_ratio = lin_ae.absorption_ratio(np.array([cov_matricies[0, :, :]]))\n",
    "### GRADED PART (DO NOT EDIT) ###"
   ]
  },
  {
   "cell_type": "code",
   "execution_count": 87,
   "metadata": {},
   "outputs": [
    {
     "name": "stdout",
     "output_type": "stream",
     "text": [
      "Submission successful, please check on the coursera grader page for the status\n"
     ]
    },
    {
     "data": {
      "text/plain": [
       "[0.39359208195496026, 0.39359208195496026]"
      ]
     },
     "execution_count": 87,
     "metadata": {},
     "output_type": "execute_result"
    }
   ],
   "source": [
    "### GRADED PART (DO NOT EDIT) ###\n",
    "part_2=[test_absorp_ratio, in_sample_absorp_ratio]\n",
    "try:\n",
    "    part2 = \" \".join(map(repr, part_2))\n",
    "except TypeError:\n",
    "    part2 = repr(part_2)\n",
    "submissions[all_parts[1]]=part2\n",
    "grading.submit(COURSERA_EMAIL, COURSERA_TOKEN, assignment_key,all_parts[:2],all_parts,submissions)\n",
    "[test_absorp_ratio, in_sample_absorp_ratio]\n",
    "### GRADED PART (DO NOT EDIT) ###"
   ]
  },
  {
   "cell_type": "code",
   "execution_count": 88,
   "metadata": {},
   "outputs": [
    {
     "name": "stdout",
     "output_type": "stream",
     "text": [
      "Half-life = 252\n",
      "Lookback window = 504\n",
      "Step size = 1\n",
      "Variance Threshold = 0\n",
      "Number of stocks = 418\n",
      "Number of principal components = 83\n"
     ]
    }
   ],
   "source": [
    "stock_tickers = asset_returns.columns.values[:-1]\n",
    "assert 'SPX' not in stock_tickers, \"By accident included SPX index\"\n",
    "\n",
    "half_life = 252             # in (days)\n",
    "lookback_window = 252 * 2   # in (days)\n",
    "num_assets = len(stock_tickers)\n",
    "step_size = 1          # days : 5 - weekly, 21 - monthly, 63 - quarterly\n",
    "\n",
    "# require of that much variance to be explained. How many components are needed?\n",
    "var_threshold = 0.8     \n",
    "\n",
    "# fix 20% of principal components for absorption ratio calculation. How much variance do they explain?\n",
    "absorb_comp = int((1 / 5) * num_assets)  \n",
    "\n",
    "print('Half-life = %d' % half_life)\n",
    "print('Lookback window = %d' % lookback_window)\n",
    "print('Step size = %d' % step_size)\n",
    "print('Variance Threshold = %d' % var_threshold)\n",
    "print('Number of stocks = %d' % num_assets)\n",
    "print('Number of principal components = %d' % absorb_comp)"
   ]
  },
  {
   "cell_type": "code",
   "execution_count": null,
   "metadata": {
    "collapsed": true
   },
   "outputs": [],
   "source": [
    "# indexes date on which to compute PCA\n",
    "days_offset = 4 * 252\n",
    "num_days = 6 * 252 + days_offset\n",
    "pca_ts_index = normed_r.index[list(range(lookback_window + days_offset, min(num_days, len(normed_r)), step_size))]\n",
    "\n",
    "# allocate arrays for storing absorption ratio\n",
    "pca_components = np.array([np.nan]*len(pca_ts_index))\n",
    "absorp_ratio = np.array([np.nan]*len(pca_ts_index))\n",
    "lae_ar = np.array([np.nan]*len(pca_ts_index))  # absorption ratio computed by Auto-Encoder \n",
    "\n",
    "# keep track of covariance matricies as we would need them for training Auto-Encoder\n",
    "buf_size = 5\n",
    "cov_matricies = np.zeros((buf_size, num_assets, num_assets))\n",
    "\n",
    "exp_probs = exponent_weighting(lookback_window, half_life)\n",
    "assert 'SPX' not in normed_r.iloc[:lookback_window, :-1].columns.values, \"By accident included SPX index\""
   ]
  },
  {
   "cell_type": "markdown",
   "metadata": {},
   "source": [
    "**Instructions:**\n",
    "- on each loop iteration: \n",
    "    - fit PCA to **cov_mat**\n",
    "    - use fitted pca model to pass values to absorption_ratio(). The result of absorption ratio calculation goes into **absorp_ratio**\n",
    "    - compute number of principal components it takes to explain at least **var_threshold** of variance. The result of this calculation goes into **pca_components** "
   ]
  },
  {
   "cell_type": "code",
   "execution_count": null,
   "metadata": {},
   "outputs": [
    {
     "name": "stdout",
     "output_type": "stream",
     "text": [
      "Trainging AE 2006-02-07 00:00:00\n",
      "Trainging AE 2007-02-09 00:00:00\n",
      "Trainging AE 2008-02-11 00:00:00\n",
      "Trainging AE 2009-02-10 00:00:00\n",
      "Absorption Ratio done! Time elapsed: 278.0867898464203 seconds\n"
     ]
    }
   ],
   "source": [
    "# run the main loop computing PCA and absorption at each step using moving window of returns  \n",
    "# run this loop using both exponentially weighted returns and equally weighted returns\n",
    "import time\n",
    "from sklearn.decomposition import PCA\n",
    "\n",
    "ik = 0\n",
    "use_ewm = False\n",
    "lin_ae = None\n",
    "time_start = time.time()\n",
    "for ix in range(lookback_window + days_offset, min(num_days, len(normed_r)), step_size):\n",
    "    ret_frame = normed_r.iloc[ix - lookback_window:ix, :-1]  # fixed window\n",
    "    # ret_frame = normed_r.iloc[:ix, :-1]  # ever-growing window\n",
    "    if use_ewm:\n",
    "        ret_frame = (ret_frame.T * exp_probs).T\n",
    "    \n",
    "    cov_mat = ret_frame.cov()\n",
    "    circ_idx = ik % buf_size\n",
    "    cov_matricies[circ_idx, :, :] = cov_mat.values\n",
    "\n",
    "    if ik == 0 or ik % 21 == 0:\n",
    "        ### START CODE HERE ### (≈ 4-5 lines of code)\n",
    "        ### fit PCA, compute absorption ratio by calling absorption_ratio()\n",
    "        ### store result into pca_components for grading\n",
    "        pca = PCA().fit(cov_mat)\n",
    "        absorp_ratio[ik]= absorption_ratio(pca.explained_variance_, absorb_comp)\n",
    "        var_explained = np.cumsum(pca.explained_variance_ratio_)\n",
    "        pca_components[ik] = np.where(np.logical_not(var_explained < var_threshold))[0][0] + 1\n",
    "        ### END CODE HERE ###\n",
    "    else:\n",
    "        absorp_ratio[ik] = absorp_ratio[ik-1] \n",
    "        pca_components[ik] = pca_components[ik-1]\n",
    "    \n",
    "    if ik == 0 or ik % 252 == 0:        \n",
    "        if lin_ae is not None:\n",
    "            lin_ae.destroy()\n",
    "\n",
    "        print('Trainging AE', normed_r.index[ix])\n",
    "        lin_ae = LinearAutoEncoder(cov_mat.shape[0], absorb_comp)\n",
    "        lin_codings, lae_ar[ik] = lin_ae.train(cov_matricies[:circ_idx + 1, :, :], np.array([cov_mat.values]),batch_size=2)\n",
    "    else:\n",
    "        lin_codings, lae_ar[ik] = lin_ae.absorption_ratio(np.array([cov_mat.values]))\n",
    "\n",
    "    ik += 1\n",
    "    \n",
    "print ('Absorption Ratio done! Time elapsed: {} seconds'.format(time.time() - time_start))    \n",
    "ts_pca_components = pd.Series(pca_components, index=pca_ts_index)\n",
    "ts_absorb_ratio = pd.Series(absorp_ratio, index=pca_ts_index)\n",
    "ts_lae_absorb_ratio = pd.Series(lae_ar, index=pca_ts_index)"
   ]
  },
  {
   "cell_type": "code",
   "execution_count": null,
   "metadata": {},
   "outputs": [
    {
     "data": {
      "image/png": "[encoded data removed]",
      "text/plain": [
       "<matplotlib.figure.Figure at 0x7f1f5d1de668>"
      ]
     },
     "metadata": {},
     "output_type": "display_data"
    }
   ],
   "source": [
    "ts_absorb_ratio.plot(figsize=(12,6), title='Absorption Ratio via PCA', linewidth=3)\n",
    "plt.savefig(\"Absorption_Ratio_SPX.png\", dpi=900)"
   ]
  },
  {
   "cell_type": "code",
   "execution_count": null,
   "metadata": {},
   "outputs": [
    {
     "data": {
      "text/plain": [
       "<matplotlib.axes._subplots.AxesSubplot at 0x7f1f5d1430b8>"
      ]
     },
     "execution_count": 92,
     "metadata": {},
     "output_type": "execute_result"
    },
    {
     "data": {
      "image/png": "[encoded data removed]",
      "text/plain": [
       "<matplotlib.figure.Figure at 0x7f1f553f0550>"
      ]
     },
     "metadata": {},
     "output_type": "display_data"
    }
   ],
   "source": [
    "ts_lae_absorb_ratio.plot(figsize=(12,6), title='Absorption Ratio via Auto-Encoder', linewidth=3)"
   ]
  },
  {
   "cell_type": "markdown",
   "metadata": {},
   "source": [
    "Having computed daily (this means the step size is 1) Absorption Ratio times series, we further follow M. Kritzman to make use of AR to define yet another measure: AR Delta. In particular:\n",
    "$$ AR\\delta = \\frac{AR_{15d} - AR_{1y}}{ AR\\sigma_{1y}}$$\n",
    "We use  $AR\\delta$ to build simple portfolio trading strategy"
   ]
  },
  {
   "cell_type": "code",
   "execution_count": null,
   "metadata": {},
   "outputs": [
    {
     "data": {
      "image/png": "[encoded data removed]",
      "text/plain": [
       "<matplotlib.figure.Figure at 0x7f1f553968d0>"
      ]
     },
     "metadata": {},
     "output_type": "display_data"
    }
   ],
   "source": [
    "# following Kritzman and computing AR_delta = (15d_AR -1yr_AR) / sigma_AR\n",
    "ts_ar = ts_absorb_ratio\n",
    "ar_mean_1yr = ts_ar.rolling(252).mean()\n",
    "ar_mean_15d = ts_ar.rolling(15).mean()\n",
    "ar_sd_1yr = ts_ar.rolling(252).std()\n",
    "ar_delta = (ar_mean_15d - ar_mean_1yr) / ar_sd_1yr    # standardized shift in absorption ratio\n",
    "\n",
    "df_plot = pd.DataFrame({'AR_delta': ar_delta.values, 'AR_1yr': ar_mean_1yr.values, 'AR_15d': ar_mean_15d.values}, \n",
    "                       index=ts_ar.index)\n",
    "df_plot = df_plot.dropna()\n",
    "if df_plot.shape[0] > 0:\n",
    "    df_plot.plot(figsize=(12, 6), title='Absorption Ratio Delta', linewidth=3)"
   ]
  },
  {
   "cell_type": "markdown",
   "metadata": {},
   "source": [
    "#### Part 3 (AR Delta Trading Strategy)\n",
    "\n",
    "**Instructions:** Implement get_weight() function\n",
    "\n",
    "The AR Delta trading strategy forms a portfolio of EQ and FI, following these simple rules:\n",
    "\n",
    "* __$ -1\\sigma < AR < +1\\sigma $__\t 50 / 50 weights for EQ / FI\n",
    "* __$ AR > +1\\sigma $__\t             0 / 100 weights for EQ / FI\n",
    "* __$ AR < -1\\sigma $__\t             100 / 0 weights for EQ / FI\n",
    "\n",
    "Here we compute AR Delta strategy weights using data from the same data set. As expected, the average number of trades per year is very low."
   ]
  },
  {
   "cell_type": "code",
   "execution_count": null,
   "metadata": {
    "collapsed": true
   },
   "outputs": [],
   "source": [
    "# GRADED FUNCTION: get_weight\n",
    "def get_weight(ar_delta):\n",
    "    '''\n",
    "    Calculate EQ / FI portfolio weights based on Absorption Ratio delta\n",
    "    Arguments:\n",
    "    ar_delta -- Absorption Ratio delta\n",
    "    \n",
    "    Return: \n",
    "        wgts -- a vector of portfolio weights\n",
    "    '''\n",
    "    \n",
    "    ### START CODE HERE ### (≈ 6 lines of code)\n",
    "    ### ....\n",
    "    if ar_delta > 1:\n",
    "        EQ,FI = 0, 1\n",
    "    elif ar_delta < -1:\n",
    "        EQ,FI = 1,0\n",
    "    else:\n",
    "        EQ,FI = 0.5,0.5\n",
    "    wgts = [EQ, FI] # replace with your own calculation here\n",
    "    return wgts\n",
    "    ### END CODE HERE ###"
   ]
  },
  {
   "cell_type": "code",
   "execution_count": null,
   "metadata": {},
   "outputs": [
    {
     "name": "stdout",
     "output_type": "stream",
     "text": [
      "Average number of trades per year 1.50\n"
     ]
    }
   ],
   "source": [
    "### GRADED PART (DO NOT EDIT) ###\n",
    "ar_delta_data = ar_delta[251:]\n",
    "\n",
    "rebal_dates = np.zeros(len(ar_delta_data))\n",
    "wgts = pd.DataFrame(data=np.zeros((len(ar_delta_data.index), 2)), index=ar_delta_data.index, columns=('EQ', 'FI'))\n",
    "\n",
    "prtf_wgts = get_weight(ar_delta_data.values[0])\n",
    "wgts.iloc[0, :] = prtf_wgts\n",
    "for ix in range(1, len(ar_delta_data)):\n",
    "    prtf_wgts = get_weight(ar_delta_data.values[ix])\n",
    "    wgts.iloc[ix, :] = prtf_wgts\n",
    "    if wgts.iloc[ix-1, :][0] != prtf_wgts[0]:\n",
    "        prtf_wgts = wgts.iloc[ix, :]\n",
    "        rebal_dates[ix] = 1\n",
    "\n",
    "ts_rebal_dates = pd.Series(rebal_dates, index=ar_delta_data.index)\n",
    "ts_trades_per_year = ts_rebal_dates.groupby([ts_rebal_dates.index.year]).sum()\n",
    "print('Average number of trades per year %.2f' % ts_trades_per_year.mean())\n",
    "### GRADED PART (DO NOT EDIT) ###"
   ]
  },
  {
   "cell_type": "code",
   "execution_count": null,
   "metadata": {},
   "outputs": [
    {
     "name": "stdout",
     "output_type": "stream",
     "text": [
      "Submission successful, please check on the coursera grader page for the status\n"
     ]
    },
    {
     "data": {
      "text/plain": [
       "array([ 0.5,  1. ,  0. ,  0.5,  0.5,  0.5,  0. ,  0.5,  0.5,  1. ,  0.5,\n",
       "        0. ,  0. ,  0.5,  1. ,  0.5,  0.5,  0.5,  0.5,  0. ,  1. ,  0. ,\n",
       "        1. ,  1. ,  0.5,  1. ,  1. ,  1. ,  1. ,  1. ,  0. ,  0. ,  1. ,\n",
       "        1. ,  1. ,  0. ,  0.5,  0. ,  0.5,  0. ,  0.5,  0. ,  0.5,  1. ,\n",
       "        1. ,  0.5,  1. ,  0.5,  1. ,  1. ,  0. ,  1. ,  0.5,  1. ,  0. ,\n",
       "        1. ,  1. ,  0. ,  0. ,  0.5,  0. ,  0. ,  0. ,  0. ,  0. ,  0.5,\n",
       "        0.5,  0. ,  1. ,  1. ,  1. ,  0.5,  0.5,  1. ,  0.5,  1. ,  1. ,\n",
       "        1. ,  0. ,  0.5,  0. ,  1. ,  0. ,  1. ,  0. ,  0. ,  0.5,  0. ,\n",
       "        1. ,  1. ,  1. ,  1. ,  1. ,  0.5,  1. ,  1. ,  1. ,  1. ,  1. ,\n",
       "        0. ])"
      ]
     },
     "execution_count": 96,
     "metadata": {},
     "output_type": "execute_result"
    }
   ],
   "source": [
    "### GRADED PART (DO NOT EDIT) ###\n",
    "np.random.seed(42)\n",
    "wgts_test = wgts.as_matrix()\n",
    "idx_row = np.random.randint(low=0, high=wgts_test.shape[0], size=100)\n",
    "np.random.seed(42)\n",
    "idx_col = np.random.randint(low=0, high=wgts_test.shape[1], size=100)\n",
    "\n",
    "# grading\n",
    "part_3=list(wgts_test[idx_row, idx_col])\n",
    "try:\n",
    "    part3 = \" \".join(map(repr, part_3))\n",
    "except TypeError:\n",
    "    part3 = repr(part_3)\n",
    "submissions[all_parts[2]]=part3\n",
    "grading.submit(COURSERA_EMAIL, COURSERA_TOKEN, assignment_key,all_parts[:3],all_parts,submissions)\n",
    "\n",
    "wgts_test[idx_row, idx_col]\n",
    "### GRADED PART (DO NOT EDIT) ###"
   ]
  },
  {
   "cell_type": "markdown",
   "metadata": {},
   "source": [
    "Now that weights have been determined, run the re-balancing strategy using time series of returns and compute\n",
    " - sharpe of the strategy\n",
    " - strategy annualized return\n",
    " - strategy annualized volatility\n",
    "\n",
    "Contrast this with 50 / 50 Equity / Fixed Income ETF strategy performance using the same performance metrics. Use VTI as Equity and AGG as Fixed Income assets."
   ]
  },
  {
   "cell_type": "code",
   "execution_count": null,
   "metadata": {},
   "outputs": [
    {
     "data": {
      "text/html": [
       "<div>\n",
       "<table border=\"1\" class=\"dataframe\">\n",
       "  <thead>\n",
       "    <tr style=\"text-align: right;\">\n",
       "      <th></th>\n",
       "      <th>VTI</th>\n",
       "      <th>AGG</th>\n",
       "    </tr>\n",
       "    <tr>\n",
       "      <th>Index</th>\n",
       "      <th></th>\n",
       "      <th></th>\n",
       "    </tr>\n",
       "  </thead>\n",
       "  <tbody>\n",
       "    <tr>\n",
       "      <th>2003-09-29</th>\n",
       "      <td>0.005862</td>\n",
       "      <td>-0.002734</td>\n",
       "    </tr>\n",
       "    <tr>\n",
       "      <th>2003-09-30</th>\n",
       "      <td>-0.006036</td>\n",
       "      <td>0.005188</td>\n",
       "    </tr>\n",
       "    <tr>\n",
       "      <th>2003-10-01</th>\n",
       "      <td>0.020000</td>\n",
       "      <td>-0.000486</td>\n",
       "    </tr>\n",
       "    <tr>\n",
       "      <th>2003-10-02</th>\n",
       "      <td>0.004516</td>\n",
       "      <td>-0.001560</td>\n",
       "    </tr>\n",
       "    <tr>\n",
       "      <th>2003-10-03</th>\n",
       "      <td>0.010935</td>\n",
       "      <td>-0.007219</td>\n",
       "    </tr>\n",
       "  </tbody>\n",
       "</table>\n",
       "</div>"
      ],
      "text/plain": [
       "                 VTI       AGG\n",
       "Index                         \n",
       "2003-09-29  0.005862 -0.002734\n",
       "2003-09-30 -0.006036  0.005188\n",
       "2003-10-01  0.020000 -0.000486\n",
       "2003-10-02  0.004516 -0.001560\n",
       "2003-10-03  0.010935 -0.007219"
      ]
     },
     "execution_count": 97,
     "metadata": {},
     "output_type": "execute_result"
    }
   ],
   "source": [
    "etf_r= pd.read_csv('/home/jovyan/work/readonly/pca_hw5_etf_returns.csv',\n",
    "                     date_parser=lambda dt: pd.to_datetime(dt, format='%Y-%m-%d'),\n",
    "                     index_col = 0)\n",
    "etf_prices = pd.read_csv('/home/jovyan/work/readonly/millenials_portfolio_etfs.csv',\n",
    "                         date_parser=lambda dt: pd.to_datetime(dt, format='%Y-%m-%d'),\n",
    "                         index_col = 0)\n",
    "etf_returns = etf_prices.pct_change(periods=1)\n",
    "etf_returns = etf_returns.iloc[1450:, :]\n",
    "etf_r.head()"
   ]
  },
  {
   "cell_type": "markdown",
   "metadata": {},
   "source": [
    "#### Part 4 (Calculate performance of backtested strategy)\n",
    "\n",
    "**Instructions:**\n",
    "\n",
    "Implement function backtest_strategy which given a DataFrame of strategy weights and a DataFrame asset returns annualized return, volatility and Sharpe ratio of a strategy."
   ]
  },
  {
   "cell_type": "code",
   "execution_count": 114,
   "metadata": {
    "collapsed": true
   },
   "outputs": [],
   "source": [
    "# GRADED FUNCTION: backtest_strategy\n",
    "def backtest_strategy(strat_wgts, asset_returns, periods_per_year = 252):\n",
    "    '''\n",
    "    Calculate portfolio returns and return portfolio strategy performance\n",
    "    Arguments:\n",
    "    \n",
    "    strat_wgts -- pandas.DataFrame of weights of the assets\n",
    "    asset_returns -- pandas.DataFrame of asset returns\n",
    "    periods_per_year -- number of return observations per year\n",
    "    \n",
    "    Return: \n",
    "        (ann_ret, ann_vol, sharpe) -- a tuple of (annualized return, annualized volatility, sharpe ratio)\n",
    "    '''\n",
    "\n",
    "    ### START CODE HERE ### (≈ 10 lines of code)\n",
    "    backtest = strat_wgts['EQ']*asset_returns['VTI'] + strat_wgts['FI']*asset_returns['AGG']\n",
    "    backtest.dropna(inplace = True)\n",
    "    n = len(backtest)\n",
    "    ann_ret = np.prod(1+ backtest)**(periods_per_year/n)-1\n",
    "    ann_vol = backtest.std() * np.sqrt(periods_per_year)\n",
    "    sharpe = ann_ret/ann_vol\n",
    "    return (ann_ret, ann_vol, sharpe)\n",
    "    # return 0., 0., 1. # annualized return,  annualized volatility,  sharp ratio\n",
    "    ### END CODE HERE ###"
   ]
  },
  {
   "cell_type": "code",
   "execution_count": 115,
   "metadata": {},
   "outputs": [
    {
     "name": "stdout",
     "output_type": "stream",
     "text": [
      "Absorption Ratio strategy: 0.0531955801554 0.0932706438441 0.570335723685\n",
      "Equally weighted: 0.00452264075919 0.151485012475 0.0298553677707\n"
     ]
    }
   ],
   "source": [
    "### GRADED PART (DO NOT EDIT) ###\n",
    "ann_ret, ann_vol, sharpe = backtest_strategy(wgts, etf_r)\n",
    "print('Absorption Ratio strategy:', ann_ret, ann_vol, sharpe)\n",
    "\n",
    "eq_wgts = wgts.copy()\n",
    "eq_wgts.iloc[:, ] = 0.5\n",
    "ann_ret_eq_wgt, ann_vol_eq_wgt, sharpe_eq_wgt = backtest_strategy(eq_wgts, etf_r)\n",
    "print('Equally weighted:', ann_ret_eq_wgt, ann_vol_eq_wgt, sharpe_eq_wgt)\n",
    "### GRADED PART (DO NOT EDIT) ###"
   ]
  },
  {
   "cell_type": "code",
   "execution_count": 116,
   "metadata": {},
   "outputs": [
    {
     "name": "stdout",
     "output_type": "stream",
     "text": [
      "Submission successful, please check on the coursera grader page for the status\n"
     ]
    },
    {
     "data": {
      "text/plain": [
       "[0.053195580155390498,\n",
       " 0.093270643844144949,\n",
       " 0.57033572368472341,\n",
       " 0.0045226407591945073,\n",
       " 0.15148501247528318,\n",
       " 0.029855367770672606]"
      ]
     },
     "execution_count": 116,
     "metadata": {},
     "output_type": "execute_result"
    }
   ],
   "source": [
    "### GRADED PART (DO NOT EDIT) ###\n",
    "part_4=[ann_ret, ann_vol, sharpe, ann_ret_eq_wgt, ann_vol_eq_wgt, sharpe_eq_wgt]\n",
    "try:\n",
    "    part4 = \" \".join(map(repr, part_4))\n",
    "except TypeError:\n",
    "    part3 = repr(part_4)\n",
    "submissions[all_parts[3]]=part4\n",
    "grading.submit(COURSERA_EMAIL, COURSERA_TOKEN, assignment_key,all_parts[:4],all_parts,submissions)\n",
    "[ann_ret, ann_vol, sharpe, ann_ret_eq_wgt, ann_vol_eq_wgt, sharpe_eq_wgt]\n",
    "### GRADED PART (DO NOT EDIT) ###"
   ]
  },
  {
   "cell_type": "code",
   "execution_count": null,
   "metadata": {
    "collapsed": true
   },
   "outputs": [],
   "source": []
  }
 ],
 "metadata": {
  "anaconda-cloud": {},
  "celltoolbar": "Edit Metadata",
  "coursera": {
   "course_slug": "machine-learning-in-finance"
  },
  "kernelspec": {
   "display_name": "Python 3",
   "language": "python",
   "name": "python3"
  },
  "language_info": {
   "codemirror_mode": {
    "name": "ipython",
    "version": 3
   },
   "file_extension": ".py",
   "mimetype": "text/x-python",
   "name": "python",
   "nbconvert_exporter": "python",
   "pygments_lexer": "ipython3",
   "version": "3.6.2"
  }
 },
 "nbformat": 4,
 "nbformat_minor": 1
}
